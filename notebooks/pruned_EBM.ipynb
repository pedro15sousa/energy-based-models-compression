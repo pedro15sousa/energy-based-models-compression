{
 "cells": [
  {
   "cell_type": "code",
   "execution_count": 4,
   "metadata": {},
   "outputs": [
    {
     "name": "stdout",
     "output_type": "stream",
     "text": [
      "Not running on Google Colab. Assuming local environment.\n"
     ]
    }
   ],
   "source": [
    "import os\n",
    "\n",
    "# Check if the notebook is running on Colab\n",
    "if 'COLAB_GPU' in os.environ:\n",
    "    # This block will run only in Google Colab\n",
    "    IN_COLAB = True\n",
    "    print(\"Running on Google Colab. Cloning the repository.\")\n",
    "    !git clone https://github.com/pedro15sousa/energy-based-models-compression.git\n",
    "    %cd energy-based-models-compression/notebooks\n",
    "else: \n",
    "    # This block will run if not in Google Colab\n",
    "    IN_COLAB = False\n",
    "    print(\"Not running on Google Colab. Assuming local environment.\")"
   ]
  },
  {
   "cell_type": "code",
   "execution_count": 5,
   "metadata": {},
   "outputs": [],
   "source": [
    "import sys\n",
    "sys.path.append('..')  # This adds the parent directory (main_folder) to the Python path"
   ]
  },
  {
   "cell_type": "code",
   "execution_count": 6,
   "metadata": {},
   "outputs": [
    {
     "name": "stdout",
     "output_type": "stream",
     "text": [
      "Device:  cpu\n"
     ]
    },
    {
     "name": "stderr",
     "output_type": "stream",
     "text": [
      "/var/folders/pl/gjvtfzbj4691nr_0pszjdspw0000gn/T/ipykernel_81710/3206500048.py:35: DeprecationWarning: `set_matplotlib_formats` is deprecated since IPython 7.23, directly use `matplotlib_inline.backend_inline.set_matplotlib_formats()`\n",
      "  set_matplotlib_formats('svg', 'pdf') # For export\n"
     ]
    }
   ],
   "source": [
    "import torch\n",
    "import torch.nn as nn\n",
    "import torch.optim as optim\n",
    "import torchvision\n",
    "from torchvision import transforms\n",
    "from torchvision.datasets import MNIST\n",
    "import torch.utils.data as data\n",
    "import torch.nn.utils.prune as prune\n",
    "\n",
    "# PyTorch Lightning\n",
    "try:\n",
    "    import pytorch_lightning as pl\n",
    "except ModuleNotFoundError: # Google Colab does not have PyTorch Lightning installed by default. Hence, we do it here if necessary\n",
    "    !pip install --quiet pytorch-lightning\n",
    "    import pytorch_lightning as pl\n",
    "# Callbacks\n",
    "from pytorch_lightning.callbacks import LearningRateMonitor, ModelCheckpoint\n",
    "# Pytorch Summary\n",
    "try:\n",
    "    from torchsummary import summary\n",
    "except ModuleNotFoundError:\n",
    "    !pip install --quiet torchsummary\n",
    "    from torchsummary import summary\n",
    "\n",
    "import numpy as np\n",
    "import pandas as pd\n",
    "import copy\n",
    "\n",
    "## Imports for plotting\n",
    "import matplotlib.pyplot as plt\n",
    "from tqdm.auto import tqdm\n",
    "from matplotlib import cm\n",
    "%matplotlib inline\n",
    "from IPython.display import set_matplotlib_formats\n",
    "set_matplotlib_formats('svg', 'pdf') # For export\n",
    "from matplotlib.colors import to_rgb\n",
    "import matplotlib\n",
    "from mpl_toolkits.mplot3d.axes3d import Axes3D\n",
    "from mpl_toolkits.mplot3d import proj3d\n",
    "matplotlib.rcParams['lines.linewidth'] = 2.0\n",
    "import seaborn as sns\n",
    "sns.reset_orig()\n",
    "\n",
    "from metrics.classifier import VGG\n",
    "from EBM import DeepEnergyModel\n",
    "from callbacks import InceptionScoreCallback, \\\n",
    "    FIDCallback, SamplerCallback, OutlierCallback, \\\n",
    "    GenerateImagesCallback\n",
    "\n",
    "import shutil\n",
    "if IN_COLAB:\n",
    "    from google.colab import files, drive\n",
    "    drive.mount('/content/drive')\n",
    "\n",
    "# Path to the folder where the datasets are/should be downloaded (e.g. CIFAR10)\n",
    "DATASET_PATH = \"../data\"\n",
    "# Path to the folder where the pretrained models are saved\n",
    "CHECKPOINT_PATH = \"../saved_models\"\n",
    "DRIVE_PATH = \"/content/drive/My Drive/EBM_saved_models/\"\n",
    "\n",
    "device = torch.device(\"cuda:0\") if torch.cuda.is_available() else torch.device(\"cpu\")\n",
    "print(\"Device: \", device)"
   ]
  },
  {
   "cell_type": "code",
   "execution_count": 7,
   "metadata": {},
   "outputs": [],
   "source": [
    "# Transformations applied on each image => make them a tensor and normalize between -1 and 1\n",
    "transform = transforms.Compose([transforms.ToTensor(),\n",
    "                                transforms.Normalize((0.5,), (0.5,))\n",
    "                               ])\n",
    "\n",
    "# Loading the training dataset. We need to split it into a training and validation part\n",
    "train_set = MNIST(root=DATASET_PATH, train=True, transform=transform, download=True)\n",
    "\n",
    "# Loading the test set\n",
    "test_set = MNIST(root=DATASET_PATH, train=False, transform=transform, download=True)\n",
    "\n",
    "# We define a set of data loaders that we can use for various purposes later.\n",
    "# Note that for actually training a model, we will use different data loaders\n",
    "# with a lower batch size.\n",
    "train_loader = data.DataLoader(train_set, batch_size=64, shuffle=True,  drop_last=True,  num_workers=2, pin_memory=True)\n",
    "test_loader  = data.DataLoader(test_set,  batch_size=128, shuffle=False, drop_last=False, num_workers=2)"
   ]
  },
  {
   "cell_type": "code",
   "execution_count": 8,
   "metadata": {},
   "outputs": [
    {
     "name": "stdout",
     "output_type": "stream",
     "text": [
      "Model already exists and loaded.\n",
      "----------------------------------------------------------------\n",
      "        Layer (type)               Output Shape         Param #\n",
      "================================================================\n",
      "            Conv2d-1          [-1, 128, 28, 28]           1,280\n",
      "              ReLU-2          [-1, 128, 28, 28]               0\n",
      "            Conv2d-3          [-1, 128, 28, 28]         147,584\n",
      "              ReLU-4          [-1, 128, 28, 28]               0\n",
      "            Conv2d-5          [-1, 128, 28, 28]         147,584\n",
      "              ReLU-6          [-1, 128, 28, 28]               0\n",
      "         MaxPool2d-7          [-1, 128, 14, 14]               0\n",
      "            Conv2d-8          [-1, 256, 14, 14]         295,168\n",
      "              ReLU-9          [-1, 256, 14, 14]               0\n",
      "           Conv2d-10          [-1, 256, 14, 14]         590,080\n",
      "             ReLU-11          [-1, 256, 14, 14]               0\n",
      "           Conv2d-12          [-1, 256, 14, 14]         590,080\n",
      "             ReLU-13          [-1, 256, 14, 14]               0\n",
      "        MaxPool2d-14            [-1, 256, 7, 7]               0\n",
      "           Linear-15                   [-1, 10]         125,450\n",
      "================================================================\n",
      "Total params: 1,897,226\n",
      "Trainable params: 1,897,226\n",
      "Non-trainable params: 0\n",
      "----------------------------------------------------------------\n",
      "Input size (MB): 0.00\n",
      "Forward/backward pass size (MB): 7.18\n",
      "Params size (MB): 7.24\n",
      "Estimated Total Size (MB): 14.42\n",
      "----------------------------------------------------------------\n"
     ]
    }
   ],
   "source": [
    "if os.path.exists('../saved_models/mnist-classifier-1 (1).pth'):\n",
    "    # Load the best model\n",
    "    mnist_classifier = VGG()\n",
    "\n",
    "    if device == 'cuda':\n",
    "        mnist_classifier.load_state_dict(torch.load('../saved_models/mnist-classifier-1 (1).pth'))\n",
    "    else:\n",
    "        mnist_classifier.load_state_dict(torch.load('../saved_models/mnist-classifier-1 (1).pth', map_location=torch.device('cpu')))\n",
    "\n",
    "    mnist_classifier.to(device)\n",
    "    print(\"Model already exists and loaded.\")\n",
    "    summary(mnist_classifier, input_size=(1, 28, 28))\n",
    "else:\n",
    "    print(\"Classifier not found in saved_models. Please run the classifier notebook first.\")"
   ]
  },
  {
   "cell_type": "code",
   "execution_count": 9,
   "metadata": {},
   "outputs": [],
   "source": [
    "def apply_unstructured_pruning(model, backbone=True, amount=0.5):\n",
    "    \"\"\"Applies unstructured L1 pruning to the specified layers in the model.\n",
    "    \n",
    "    Args:\n",
    "        model (nn.Module): The neural network model to prune.\n",
    "        backbone (bool): If True, prune only Conv2d layers. If False, prune all layers.\n",
    "        amount (float): The fraction of weights to prune.\n",
    "    \"\"\"\n",
    "    for module in model.modules():\n",
    "        # If backbone is True, prune only Conv2d layers\n",
    "        if backbone and isinstance(module, nn.Conv2d):\n",
    "            prune.l1_unstructured(module, name='weight', amount=amount)\n",
    "            prune.remove(module, 'weight')\n",
    "        # If backbone is False, prune all layers with weights\n",
    "        elif not backbone and hasattr(module, 'weight'):\n",
    "            prune.l1_unstructured(module, name='weight', amount=amount)\n",
    "            prune.remove(module, 'weight')"
   ]
  },
  {
   "cell_type": "code",
   "execution_count": 10,
   "metadata": {},
   "outputs": [],
   "source": [
    "def apply_structured_pruning(model, backbone=True, amount=0.5):\n",
    "    \"\"\"Applies structured Ln pruning to the specified layers in the model.\n",
    "    \n",
    "    Args:\n",
    "        model (nn.Module): The neural network model to prune.\n",
    "        backbone (bool): If True, prune only Conv2d layers. If False, prune all layers.\n",
    "        amount (float): The fraction of weights to prune.\n",
    "    \"\"\"\n",
    "    for module in model.modules():\n",
    "        # If backbone is True, prune only Conv2d layers\n",
    "        if backbone and isinstance(module, nn.Conv2d):\n",
    "            prune.ln_structured(module, name='weight', amount=amount, n=1, dim=0)  # dim=0 for filter pruning)\n",
    "            prune.remove(module, 'weight')\n",
    "        # If backbone is False, prune all layers with weights\n",
    "        elif not backbone and hasattr(module, 'weight'):\n",
    "            prune.ln_structured(module, name='weight', amount=amount, n=1, dim=0)  # dim=0 for filter pruning)\n",
    "            prune.remove(module, 'weight')"
   ]
  },
  {
   "cell_type": "code",
   "execution_count": 11,
   "metadata": {},
   "outputs": [],
   "source": [
    "def get_pruned_model(model, struct=False, backbone=True, amount=0.2):\n",
    "    pruned_model = copy.deepcopy(model)\n",
    "    if struct:\n",
    "        apply_structured_pruning(model=pruned_model, backbone=backbone, amount=amount)\n",
    "    else:\n",
    "        apply_unstructured_pruning(model=pruned_model, backbone=backbone, amount=amount)\n",
    "    \n",
    "    return pruned_model\n"
   ]
  },
  {
   "cell_type": "code",
   "execution_count": 12,
   "metadata": {},
   "outputs": [
    {
     "name": "stdout",
     "output_type": "stream",
     "text": [
      "----------------------------------------------------------------\n",
      "        Layer (type)               Output Shape         Param #\n",
      "================================================================\n",
      "            Conv2d-1           [-1, 64, 14, 14]           3,200\n",
      "             Swish-2           [-1, 64, 14, 14]               0\n",
      "         MaxPool2d-3             [-1, 64, 7, 7]               0\n",
      "            Conv2d-4             [-1, 64, 7, 7]          36,928\n",
      "             Swish-5             [-1, 64, 7, 7]               0\n",
      "            Conv2d-6             [-1, 64, 7, 7]          36,928\n",
      "             Swish-7             [-1, 64, 7, 7]               0\n",
      "BasicResidualBlock-8             [-1, 64, 7, 7]               0\n",
      "            Conv2d-9             [-1, 64, 7, 7]          36,928\n",
      "            Swish-10             [-1, 64, 7, 7]               0\n",
      "           Conv2d-11             [-1, 64, 7, 7]          36,928\n",
      "            Swish-12             [-1, 64, 7, 7]               0\n",
      "BasicResidualBlock-13             [-1, 64, 7, 7]               0\n",
      "           Conv2d-14            [-1, 128, 4, 4]          73,856\n",
      "            Swish-15            [-1, 128, 4, 4]               0\n",
      "           Conv2d-16            [-1, 128, 4, 4]         147,584\n",
      "           Conv2d-17            [-1, 128, 4, 4]           8,320\n",
      "            Swish-18            [-1, 128, 4, 4]               0\n",
      "BasicResidualBlock-19            [-1, 128, 4, 4]               0\n",
      "           Conv2d-20            [-1, 128, 4, 4]         147,584\n",
      "            Swish-21            [-1, 128, 4, 4]               0\n",
      "           Conv2d-22            [-1, 128, 4, 4]         147,584\n",
      "            Swish-23            [-1, 128, 4, 4]               0\n",
      "BasicResidualBlock-24            [-1, 128, 4, 4]               0\n",
      "           Conv2d-25            [-1, 256, 2, 2]         295,168\n",
      "            Swish-26            [-1, 256, 2, 2]               0\n",
      "           Conv2d-27            [-1, 256, 2, 2]         590,080\n",
      "           Conv2d-28            [-1, 256, 2, 2]          33,024\n",
      "            Swish-29            [-1, 256, 2, 2]               0\n",
      "BasicResidualBlock-30            [-1, 256, 2, 2]               0\n",
      "           Conv2d-31            [-1, 256, 2, 2]         590,080\n",
      "            Swish-32            [-1, 256, 2, 2]               0\n",
      "           Conv2d-33            [-1, 256, 2, 2]         590,080\n",
      "            Swish-34            [-1, 256, 2, 2]               0\n",
      "BasicResidualBlock-35            [-1, 256, 2, 2]               0\n",
      "           Conv2d-36            [-1, 512, 1, 1]       1,180,160\n",
      "            Swish-37            [-1, 512, 1, 1]               0\n",
      "           Conv2d-38            [-1, 512, 1, 1]       2,359,808\n",
      "           Conv2d-39            [-1, 512, 1, 1]         131,584\n",
      "            Swish-40            [-1, 512, 1, 1]               0\n",
      "BasicResidualBlock-41            [-1, 512, 1, 1]               0\n",
      "           Conv2d-42            [-1, 512, 1, 1]       2,359,808\n",
      "            Swish-43            [-1, 512, 1, 1]               0\n",
      "           Conv2d-44            [-1, 512, 1, 1]       2,359,808\n",
      "            Swish-45            [-1, 512, 1, 1]               0\n",
      "BasicResidualBlock-46            [-1, 512, 1, 1]               0\n",
      "AdaptiveAvgPool2d-47            [-1, 512, 1, 1]               0\n",
      "           Linear-48                   [-1, 10]           5,130\n",
      "         ResNet18-49                   [-1, 10]               0\n",
      "================================================================\n",
      "Total params: 11,170,570\n",
      "Trainable params: 11,170,570\n",
      "Non-trainable params: 0\n",
      "----------------------------------------------------------------\n",
      "Input size (MB): 0.00\n",
      "Forward/backward pass size (MB): 0.76\n",
      "Params size (MB): 42.61\n",
      "Estimated Total Size (MB): 43.37\n",
      "----------------------------------------------------------------\n"
     ]
    }
   ],
   "source": [
    "pretrained_filename = os.path.join(CHECKPOINT_PATH, \"MNIST_resnet18.ckpt\")\n",
    "model = DeepEnergyModel.load_from_checkpoint(pretrained_filename)\n",
    "# model = DeepEnergyModel.load_from_checkpoint(pretrained_filename)\n",
    "summary(model, input_size=(1, 28, 28))\n",
    "# pl.seed_everything(43)\n"
   ]
  },
  {
   "cell_type": "code",
   "execution_count": 16,
   "metadata": {},
   "outputs": [],
   "source": [
    "def train_pruned_model(stru, ratio, pruned_model):\n",
    "    perc = str(ratio * 100)\n",
    "    default_root_dir = os.path.join(CHECKPOINT_PATH, f\"MNIST/{perc}/{stru}\")\n",
    "    save_path = default_root_dir if IN_COLAB else DRIVE_PATH\n",
    "    # Create a PyTorch Lightning trainer with the generation callback\n",
    "    trainer = pl.Trainer(default_root_dir=default_root_dir,\n",
    "                         accelerator=\"gpu\" if str(device).startswith(\"cuda\") else \"cpu\",\n",
    "                         devices=1,\n",
    "                         max_epochs=7,\n",
    "                         gradient_clip_val=0.1,\n",
    "                         callbacks=[ModelCheckpoint(dirpath=save_path, filename='MNIST_pruned_{ratio}_{stru}-{epoch:02d}', save_top_k=-1, every_n_epochs=1),\n",
    "                                    GenerateImagesCallback(every_n_epochs=3),\n",
    "                                    SamplerCallback(every_n_epochs=3),\n",
    "                                    OutlierCallback(),\n",
    "                                    LearningRateMonitor(\"epoch\"),\n",
    "                                    InceptionScoreCallback(mnist_classifier),\n",
    "                                    FIDCallback(mnist_classifier)\n",
    "                                   ])\n",
    "\n",
    "    pretrained_filename = os.path.join(CHECKPOINT_PATH, f'MNIST_resnet_pruned_{ratio}_{stru}.ckpt') if IN_COLAB else os.path.join(DRIVE_PATH, f'MNIST_resnet_pruned_{ratio}_{stru}.ckpt')\n",
    "    if os.path.isfile(pretrained_filename):\n",
    "        print(\"Found pretrained model, loading...\")\n",
    "        model = DeepEnergyModel.load_from_checkpoint(pretrained_filename)\n",
    "    else:\n",
    "        print(\"No pretrained model found. Start training from scratch...\")\n",
    "        pl.seed_everything(42)\n",
    "        model = pruned_model\n",
    "    \n",
    "    # Print pruning statistics\n",
    "    model.print_pruning_stats()\n",
    "\n",
    "    trainer.fit(model, train_loader, test_loader)\n",
    "\n",
    "    model = DeepEnergyModel.load_from_checkpoint(trainer.checkpoint_callback.best_model_path)\n",
    "        \n",
    "    # No testing as we are more interested in other properties\n",
    "    return model"
   ]
  },
  {
   "cell_type": "markdown",
   "metadata": {},
   "source": [
    "## Unstructured"
   ]
  },
  {
   "cell_type": "code",
   "execution_count": null,
   "metadata": {},
   "outputs": [],
   "source": [
    "if IN_COLAB:\n",
    "    %reload_ext tensorboard\n",
    "    %tensorboard --logdir ../saved_models/MNIST/10.0/unstructured/lightning_logs"
   ]
  },
  {
   "cell_type": "code",
   "execution_count": null,
   "metadata": {},
   "outputs": [],
   "source": [
    "un_10_model = get_pruned_model(model, struct=False, backbone=False, amount=0.1)\n",
    "\n",
    "un_10_model = train_pruned_model(\"unstructured\",\n",
    "                    ratio=0.5,\n",
    "                    pruned_model=un_10_model)"
   ]
  },
  {
   "cell_type": "code",
   "execution_count": null,
   "metadata": {},
   "outputs": [],
   "source": []
  },
  {
   "cell_type": "code",
   "execution_count": null,
   "metadata": {},
   "outputs": [],
   "source": []
  },
  {
   "cell_type": "code",
   "execution_count": null,
   "metadata": {},
   "outputs": [],
   "source": [
    "un_20_model = get_pruned_model(model, struct=False, backbone=False, amount=0.2)\n",
    "\n",
    "un_20_model = train_pruned_model(\"unstructured\",\n",
    "                    ratio=0.5,\n",
    "                    pruned_model=un_20_model)"
   ]
  },
  {
   "cell_type": "code",
   "execution_count": null,
   "metadata": {},
   "outputs": [],
   "source": [
    "un_30_model = get_pruned_model(model, struct=False, backbone=False, amount=0.3)\n",
    "\n",
    "un_30_model = train_pruned_model(\"unstructured\",\n",
    "                    ratio=0.5,\n",
    "                    pruned_model=un_10_model)"
   ]
  },
  {
   "cell_type": "code",
   "execution_count": null,
   "metadata": {},
   "outputs": [],
   "source": []
  },
  {
   "cell_type": "code",
   "execution_count": null,
   "metadata": {},
   "outputs": [],
   "source": []
  },
  {
   "cell_type": "code",
   "execution_count": null,
   "metadata": {},
   "outputs": [],
   "source": []
  },
  {
   "cell_type": "code",
   "execution_count": null,
   "metadata": {},
   "outputs": [],
   "source": []
  },
  {
   "cell_type": "code",
   "execution_count": null,
   "metadata": {},
   "outputs": [],
   "source": []
  }
 ],
 "metadata": {
  "kernelspec": {
   "display_name": "base",
   "language": "python",
   "name": "python3"
  },
  "language_info": {
   "codemirror_mode": {
    "name": "ipython",
    "version": 3
   },
   "file_extension": ".py",
   "mimetype": "text/x-python",
   "name": "python",
   "nbconvert_exporter": "python",
   "pygments_lexer": "ipython3",
   "version": "3.11.5"
  }
 },
 "nbformat": 4,
 "nbformat_minor": 2
}
