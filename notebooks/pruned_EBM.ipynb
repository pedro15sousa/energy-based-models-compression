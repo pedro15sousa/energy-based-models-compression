{
 "cells": [
  {
   "cell_type": "code",
   "execution_count": 1,
   "metadata": {},
   "outputs": [
    {
     "name": "stdout",
     "output_type": "stream",
     "text": [
      "Not running on Google Colab. Assuming local environment.\n"
     ]
    }
   ],
   "source": [
    "import os\n",
    "\n",
    "# Check if the notebook is running on Colab\n",
    "if 'COLAB_GPU' in os.environ:\n",
    "    # This block will run only in Google Colab\n",
    "    IN_COLAB = True\n",
    "    print(\"Running on Google Colab. Cloning the repository.\")\n",
    "    !git clone https://github.com/pedro15sousa/energy-based-models-compression.git\n",
    "    %cd energy-based-models-compression\n",
    "else: \n",
    "    # This block will run if not in Google Colab\n",
    "    IN_COLAB = False\n",
    "    print(\"Not running on Google Colab. Assuming local environment.\")"
   ]
  },
  {
   "cell_type": "code",
   "execution_count": 2,
   "metadata": {},
   "outputs": [],
   "source": [
    "import sys\n",
    "sys.path.append('..')  # This adds the parent directory (main_folder) to the Python path"
   ]
  },
  {
   "cell_type": "code",
   "execution_count": 43,
   "metadata": {},
   "outputs": [
    {
     "name": "stdout",
     "output_type": "stream",
     "text": [
      "Device:  cpu\n"
     ]
    },
    {
     "name": "stderr",
     "output_type": "stream",
     "text": [
      "/var/folders/pl/gjvtfzbj4691nr_0pszjdspw0000gn/T/ipykernel_20152/315922631.py:33: DeprecationWarning: `set_matplotlib_formats` is deprecated since IPython 7.23, directly use `matplotlib_inline.backend_inline.set_matplotlib_formats()`\n",
      "  set_matplotlib_formats('svg', 'pdf') # For export\n"
     ]
    }
   ],
   "source": [
    "import torch\n",
    "import torch.nn as nn\n",
    "import torch.optim as optim\n",
    "from torchvision import transforms\n",
    "from torchvision.datasets import MNIST\n",
    "import torch.utils.data as data\n",
    "\n",
    "# PyTorch Lightning\n",
    "try:\n",
    "    import pytorch_lightning as pl\n",
    "except ModuleNotFoundError: # Google Colab does not have PyTorch Lightning installed by default. Hence, we do it here if necessary\n",
    "    !pip install --quiet pytorch-lightning\n",
    "    import pytorch_lightning as pl\n",
    "# Callbacks\n",
    "from pytorch_lightning.callbacks import LearningRateMonitor, ModelCheckpoint\n",
    "# Pytorch Summary\n",
    "try:\n",
    "    from torchsummary import summary\n",
    "except ModuleNotFoundError:\n",
    "    !pip install --quiet torchsummary\n",
    "    from torchsummary import summary\n",
    "\n",
    "import numpy as np\n",
    "import pandas as pd\n",
    "import json\n",
    "\n",
    "## Imports for plotting\n",
    "import matplotlib.pyplot as plt\n",
    "from tqdm.auto import tqdm\n",
    "from matplotlib import cm\n",
    "%matplotlib inline\n",
    "from IPython.display import set_matplotlib_formats\n",
    "set_matplotlib_formats('svg', 'pdf') # For export\n",
    "from matplotlib.colors import to_rgb\n",
    "import matplotlib\n",
    "from mpl_toolkits.mplot3d.axes3d import Axes3D\n",
    "from mpl_toolkits.mplot3d import proj3d\n",
    "matplotlib.rcParams['lines.linewidth'] = 2.0\n",
    "import seaborn as sns\n",
    "sns.reset_orig()\n",
    "\n",
    "from metrics.classifier import VGG\n",
    "from EBM import DeepEnergyModel\n",
    "from callbacks import InceptionScoreCallback, \\\n",
    "    FIDCallback, SamplerCallback, OutlierCallback, \\\n",
    "    GenerateImagesCallback\n",
    "\n",
    "import shutil\n",
    "if IN_COLAB:\n",
    "    from google.colab import files\n",
    "\n",
    "# Path to the folder where the datasets are/should be downloaded (e.g. CIFAR10)\n",
    "DATASET_PATH = \"../data\"\n",
    "# Path to the folder where the pretrained models are saved\n",
    "CHECKPOINT_PATH = \"../saved_models\"\n",
    "\n",
    "device = torch.device(\"cuda:0\") if torch.cuda.is_available() else torch.device(\"cpu\")\n",
    "print(\"Device: \", device)"
   ]
  },
  {
   "cell_type": "code",
   "execution_count": 4,
   "metadata": {},
   "outputs": [],
   "source": [
    "# Transformations applied on each image => make them a tensor and normalize between -1 and 1\n",
    "transform = transforms.Compose([transforms.ToTensor(),\n",
    "                                transforms.Normalize((0.5,), (0.5,))\n",
    "                               ])\n",
    "\n",
    "# Loading the training dataset. We need to split it into a training and validation part\n",
    "train_set = MNIST(root=DATASET_PATH, train=True, transform=transform, download=True)\n",
    "\n",
    "# Loading the test set\n",
    "test_set = MNIST(root=DATASET_PATH, train=False, transform=transform, download=True)\n",
    "\n",
    "# We define a set of data loaders that we can use for various purposes later.\n",
    "# Note that for actually training a model, we will use different data loaders\n",
    "# with a lower batch size.\n",
    "train_loader = data.DataLoader(train_set, batch_size=64, shuffle=True,  drop_last=True,  num_workers=2, pin_memory=True)\n",
    "test_loader  = data.DataLoader(test_set,  batch_size=128, shuffle=False, drop_last=False, num_workers=2)"
   ]
  },
  {
   "cell_type": "code",
   "execution_count": 5,
   "metadata": {},
   "outputs": [
    {
     "name": "stdout",
     "output_type": "stream",
     "text": [
      "Model already exists and loaded.\n",
      "----------------------------------------------------------------\n",
      "        Layer (type)               Output Shape         Param #\n",
      "================================================================\n",
      "            Conv2d-1          [-1, 128, 28, 28]           1,280\n",
      "              ReLU-2          [-1, 128, 28, 28]               0\n",
      "            Conv2d-3          [-1, 128, 28, 28]         147,584\n",
      "              ReLU-4          [-1, 128, 28, 28]               0\n",
      "            Conv2d-5          [-1, 128, 28, 28]         147,584\n",
      "              ReLU-6          [-1, 128, 28, 28]               0\n",
      "         MaxPool2d-7          [-1, 128, 14, 14]               0\n",
      "            Conv2d-8          [-1, 256, 14, 14]         295,168\n",
      "              ReLU-9          [-1, 256, 14, 14]               0\n",
      "           Conv2d-10          [-1, 256, 14, 14]         590,080\n",
      "             ReLU-11          [-1, 256, 14, 14]               0\n",
      "           Conv2d-12          [-1, 256, 14, 14]         590,080\n",
      "             ReLU-13          [-1, 256, 14, 14]               0\n",
      "        MaxPool2d-14            [-1, 256, 7, 7]               0\n",
      "           Linear-15                   [-1, 10]         125,450\n",
      "================================================================\n",
      "Total params: 1,897,226\n",
      "Trainable params: 1,897,226\n",
      "Non-trainable params: 0\n",
      "----------------------------------------------------------------\n",
      "Input size (MB): 0.00\n",
      "Forward/backward pass size (MB): 7.18\n",
      "Params size (MB): 7.24\n",
      "Estimated Total Size (MB): 14.42\n",
      "----------------------------------------------------------------\n"
     ]
    }
   ],
   "source": [
    "if os.path.exists('./saved_models/mnist-classifier-1 (1).pth'):\n",
    "    # Load the best model\n",
    "    mnist_classifier = VGG()\n",
    "\n",
    "    if device == 'cuda':\n",
    "        mnist_classifier.load_state_dict(torch.load('./saved_models/mnist-classifier-1 (1).pth'))\n",
    "    else:\n",
    "        mnist_classifier.load_state_dict(torch.load('./saved_models/mnist-classifier-1 (1).pth', map_location=torch.device('cpu')))\n",
    "\n",
    "    mnist_classifier.to(device)\n",
    "    print(\"Model already exists and loaded.\")\n",
    "    summary(mnist_classifier, input_size=(1, 28, 28))\n",
    "else:\n",
    "    print(\"Classifier not found in saved_models. Please run the classifier notebook first.\")"
   ]
  },
  {
   "cell_type": "code",
   "execution_count": 15,
   "metadata": {},
   "outputs": [],
   "source": [
    "class DownloadCheckpointCallback(pl.Callback):\n",
    "    def __init__(self, download_dir, stru, ratio, every_n_epochs=5):\n",
    "        \"\"\"\n",
    "        Args:\n",
    "            download_interval (int): Number of epochs between downloads.\n",
    "            download_dir (str): Directory to download checkpoints to.\n",
    "        \"\"\"\n",
    "        self.every_n_epochs = every_n_epochs\n",
    "        self.download_dir = download_dir\n",
    "        self.stru = stru\n",
    "        self.ration = ratio\n",
    "\n",
    "    def on_train_epoch_end(self, trainer, pl_module, unused=None):\n",
    "        epoch = trainer.current_epoch\n",
    "        if epoch % self.every_n_epochs == 0:\n",
    "            if IN_COLAB:\n",
    "                shutil.make_archive(f'MNIST_{self.ratio}_{self.stru}_{epoch}', 'zip', self.download_dir)\n",
    "                files.download(f'MNIST_{self.ratio}_{self.stru}_{epoch}.zip')\n",
    "            else:\n",
    "                return"
   ]
  },
  {
   "cell_type": "code",
   "execution_count": 7,
   "metadata": {},
   "outputs": [],
   "source": [
    "def save_scores(trainer, default_root_dir):\n",
    "    is_callback = [cb for cb in trainer.callbacks if isinstance(cb, InceptionScoreCallback)][0]\n",
    "    epoch_is_scores = is_callback.scores\n",
    "    is_path = os.path.join(default_root_dir, \"epoch_is_scores.json\")\n",
    "\n",
    "    with open(is_path, 'w') as f:\n",
    "        json.dump(epoch_is_scores, f)\n",
    "\n",
    "    fid_callback = [cb for cb in trainer.callbacks if isinstance(cb, FIDCallback)][0]\n",
    "    epoch_fid_scores = fid_callback.scores\n",
    "    fid_path = os.path.join(default_root_dir, \"epoch_fid_scores.json\")\n",
    "\n",
    "    with open(fid_path, 'w') as f:\n",
    "        json.dump(epoch_fid_scores, f)"
   ]
  },
  {
   "cell_type": "code",
   "execution_count": 42,
   "metadata": {},
   "outputs": [],
   "source": [
    "def train_model(stru, ratio, **kwargs):\n",
    "    perc = str(ratio * 100)\n",
    "    default_root_dir = os.path.join(CHECKPOINT_PATH, f\"MNIST/{perc}/{stru}\")\n",
    "    # Create a PyTorch Lightning trainer with the generation callback\n",
    "    trainer = pl.Trainer(default_root_dir=default_root_dir,\n",
    "                         accelerator=\"gpu\" if str(device).startswith(\"cuda\") else \"cpu\",\n",
    "                         devices=1,\n",
    "                         max_epochs=60,\n",
    "                         gradient_clip_val=0.1,\n",
    "                         callbacks=[ModelCheckpoint(dirpath=default_root_dir, filename='MNIST_pruned_{ratio}_{stru}-{epoch:02d}', save_top_k=-1, every_n_epochs=1),\n",
    "                                    GenerateImagesCallback(every_n_epochs=3),\n",
    "                                    SamplerCallback(every_n_epochs=3),\n",
    "                                    OutlierCallback(),\n",
    "                                    LearningRateMonitor(\"epoch\"),\n",
    "                                    InceptionScoreCallback(mnist_classifier),\n",
    "                                    FIDCallback(mnist_classifier),\n",
    "                                    DownloadCheckpointCallback(default_root_dir, {stru}, {perc}, every_n_epochs=3)\n",
    "                                   ])\n",
    "\n",
    "    # Check whether pretrained model exists. If yes, load it and skip training\n",
    "    pretrained_filename = os.path.join(CHECKPOINT_PATH, \"MNIST.ckpt\")\n",
    "    if os.path.isfile(pretrained_filename):\n",
    "        print(\"Found pretrained model, loading...\")\n",
    "        model = DeepEnergyModel.load_from_checkpoint(pretrained_filename)\n",
    "    else:\n",
    "        print(\"No pretrained model found. Start training from scratch...\")\n",
    "        pl.seed_everything(42)\n",
    "        model = DeepEnergyModel(**kwargs)\n",
    "        # Apply pruning here before training\n",
    "        if stru == 'structured':\n",
    "            print(f\"Applying structured pruning with a ratio of {ratio}.\")\n",
    "            model.apply_structured_pruning(amount=ratio)\n",
    "        else:\n",
    "            print(f\"Applying unstructured pruning with a ratio of {ratio}.\")\n",
    "            model.apply_unstructured_pruning(amount=ratio)  # Example for unstructured pruning\n",
    "    \n",
    "    # Print pruning statistics\n",
    "    model.print_pruning_stats()\n",
    "\n",
    "    trainer.fit(model, train_loader, test_loader)\n",
    "\n",
    "    model = DeepEnergyModel.load_from_checkpoint(trainer.checkpoint_callback.best_model_path)\n",
    "    save_scores(trainer, default_root_dir)\n",
    "        \n",
    "    # No testing as we are more interested in other properties\n",
    "    return model"
   ]
  },
  {
   "cell_type": "markdown",
   "metadata": {},
   "source": [
    "# Pre-Training"
   ]
  },
  {
   "cell_type": "markdown",
   "metadata": {},
   "source": [
    "## 50%"
   ]
  },
  {
   "cell_type": "markdown",
   "metadata": {},
   "source": [
    "### Unstructured"
   ]
  },
  {
   "cell_type": "code",
   "execution_count": 34,
   "metadata": {},
   "outputs": [],
   "source": [
    "if IN_COLAB:\n",
    "    %reload_ext tensorboard\n",
    "    %tensorboard --logdir saved_models/MNIST/lightning_logs"
   ]
  },
  {
   "cell_type": "code",
   "execution_count": null,
   "metadata": {},
   "outputs": [],
   "source": [
    "# MNIST dataset images are 28x28 pixels in size and are black and white, so only have one channel\n",
    "un_50_model = train_model(\"unstructured\",\n",
    "                    ratio=0.5,\n",
    "                    img_shape=(1,28,28),\n",
    "                    batch_size=train_loader.batch_size,\n",
    "                    lr=1e-4,\n",
    "                    beta1=0.0)"
   ]
  },
  {
   "cell_type": "markdown",
   "metadata": {},
   "source": [
    "### Structured"
   ]
  },
  {
   "cell_type": "code",
   "execution_count": 27,
   "metadata": {},
   "outputs": [],
   "source": [
    "if IN_COLAB:\n",
    "    %reload_ext tensorboard\n",
    "    %tensorboard --logdir saved_models/MNIST/lightning_logs"
   ]
  },
  {
   "cell_type": "code",
   "execution_count": null,
   "metadata": {},
   "outputs": [],
   "source": [
    "# MNIST dataset images are 28x28 pixels in size and are black and white, so only have one channel\n",
    "stru_50_model = train_model(\"structured\",\n",
    "                    ratio=0.5,\n",
    "                    img_shape=(1,28,28),\n",
    "                    batch_size=train_loader.batch_size,\n",
    "                    lr=1e-4,\n",
    "                    beta1=0.0)"
   ]
  },
  {
   "cell_type": "markdown",
   "metadata": {},
   "source": [
    "## 25%"
   ]
  },
  {
   "cell_type": "markdown",
   "metadata": {},
   "source": [
    "### Unstructured"
   ]
  },
  {
   "cell_type": "code",
   "execution_count": 38,
   "metadata": {},
   "outputs": [],
   "source": [
    "if IN_COLAB:\n",
    "    %reload_ext tensorboard\n",
    "    %tensorboard --logdir saved_models/MNIST/lightning_logs"
   ]
  },
  {
   "cell_type": "code",
   "execution_count": null,
   "metadata": {},
   "outputs": [],
   "source": [
    "# MNIST dataset images are 28x28 pixels in size and are black and white, so only have one channel\n",
    "un_25_model = train_model(\"unstructured\",\n",
    "                    ratio=0.25,\n",
    "                    img_shape=(1,28,28),\n",
    "                    batch_size=train_loader.batch_size,\n",
    "                    lr=1e-4,\n",
    "                    beta1=0.0)"
   ]
  },
  {
   "cell_type": "markdown",
   "metadata": {},
   "source": [
    "### Structured"
   ]
  },
  {
   "cell_type": "code",
   "execution_count": 40,
   "metadata": {},
   "outputs": [],
   "source": [
    "if IN_COLAB:\n",
    "    %reload_ext tensorboard\n",
    "    %tensorboard --logdir saved_models/MNIST/lightning_logs"
   ]
  },
  {
   "cell_type": "code",
   "execution_count": null,
   "metadata": {},
   "outputs": [],
   "source": [
    "# MNIST dataset images are 28x28 pixels in size and are black and white, so only have one channel\n",
    "stru_25_model = train_model(\"structured\",\n",
    "                    ratio=0.25,\n",
    "                    img_shape=(1,28,28),\n",
    "                    batch_size=train_loader.batch_size,\n",
    "                    lr=1e-4,\n",
    "                    beta1=0.0)"
   ]
  },
  {
   "cell_type": "markdown",
   "metadata": {},
   "source": [
    "## 10%"
   ]
  },
  {
   "cell_type": "markdown",
   "metadata": {},
   "source": [
    "### Unstructured"
   ]
  },
  {
   "cell_type": "code",
   "execution_count": 41,
   "metadata": {},
   "outputs": [],
   "source": [
    "if IN_COLAB:\n",
    "    %reload_ext tensorboard\n",
    "    %tensorboard --logdir saved_models/MNIST/lightning_logs"
   ]
  },
  {
   "cell_type": "code",
   "execution_count": null,
   "metadata": {},
   "outputs": [],
   "source": [
    "# MNIST dataset images are 28x28 pixels in size and are black and white, so only have one channel\n",
    "un_10_model = train_model(\"unstructured\",\n",
    "                    ratio=0.1,\n",
    "                    img_shape=(1,28,28),\n",
    "                    batch_size=train_loader.batch_size,\n",
    "                    lr=1e-4,\n",
    "                    beta1=0.0)"
   ]
  },
  {
   "cell_type": "markdown",
   "metadata": {},
   "source": [
    "### Structured"
   ]
  },
  {
   "cell_type": "code",
   "execution_count": null,
   "metadata": {},
   "outputs": [],
   "source": [
    "if IN_COLAB:\n",
    "    %reload_ext tensorboard\n",
    "    %tensorboard --logdir saved_models/MNIST/lightning_logs"
   ]
  },
  {
   "cell_type": "code",
   "execution_count": null,
   "metadata": {},
   "outputs": [],
   "source": [
    "# MNIST dataset images are 28x28 pixels in size and are black and white, so only have one channel\n",
    "stru_10_model = train_model(\"structured\",\n",
    "                    ratio=0.1,\n",
    "                    img_shape=(1,28,28),\n",
    "                    batch_size=train_loader.batch_size,\n",
    "                    lr=1e-4,\n",
    "                    beta1=0.0)"
   ]
  },
  {
   "cell_type": "markdown",
   "metadata": {},
   "source": [
    "## 75%"
   ]
  },
  {
   "cell_type": "markdown",
   "metadata": {},
   "source": [
    "### Unstructured"
   ]
  },
  {
   "cell_type": "code",
   "execution_count": null,
   "metadata": {},
   "outputs": [],
   "source": [
    "if IN_COLAB:\n",
    "    %reload_ext tensorboard\n",
    "    %tensorboard --logdir saved_models/MNIST/lightning_logs"
   ]
  },
  {
   "cell_type": "code",
   "execution_count": null,
   "metadata": {},
   "outputs": [],
   "source": [
    "# MNIST dataset images are 28x28 pixels in size and are black and white, so only have one channel\n",
    "un_75_model = train_model(\"unstructured\",\n",
    "                    ratio=0.75,\n",
    "                    img_shape=(1,28,28),\n",
    "                    batch_size=train_loader.batch_size,\n",
    "                    lr=1e-4,\n",
    "                    beta1=0.0)"
   ]
  },
  {
   "cell_type": "markdown",
   "metadata": {},
   "source": [
    "### Structured"
   ]
  },
  {
   "cell_type": "code",
   "execution_count": null,
   "metadata": {},
   "outputs": [],
   "source": [
    "if IN_COLAB:\n",
    "    %reload_ext tensorboard\n",
    "    %tensorboard --logdir saved_models/MNIST/lightning_logs"
   ]
  },
  {
   "cell_type": "code",
   "execution_count": null,
   "metadata": {},
   "outputs": [],
   "source": [
    "# MNIST dataset images are 28x28 pixels in size and are black and white, so only have one channel\n",
    "stru_75_model = train_model(\"structured\",\n",
    "                    ratio=0.75,\n",
    "                    img_shape=(1,28,28),\n",
    "                    batch_size=train_loader.batch_size,\n",
    "                    lr=1e-4,\n",
    "                    beta1=0.0)"
   ]
  },
  {
   "cell_type": "markdown",
   "metadata": {},
   "source": [
    "## 90%"
   ]
  },
  {
   "cell_type": "markdown",
   "metadata": {},
   "source": [
    "### Unstructured"
   ]
  },
  {
   "cell_type": "code",
   "execution_count": null,
   "metadata": {},
   "outputs": [],
   "source": [
    "if IN_COLAB:\n",
    "    %reload_ext tensorboard\n",
    "    %tensorboard --logdir saved_models/MNIST/lightning_logs"
   ]
  },
  {
   "cell_type": "code",
   "execution_count": null,
   "metadata": {},
   "outputs": [],
   "source": [
    "# MNIST dataset images are 28x28 pixels in size and are black and white, so only have one channel\n",
    "un_90_model = train_model(\"unstructured\",\n",
    "                    ratio=0.90,\n",
    "                    img_shape=(1,28,28),\n",
    "                    batch_size=train_loader.batch_size,\n",
    "                    lr=1e-4,\n",
    "                    beta1=0.0)"
   ]
  },
  {
   "cell_type": "markdown",
   "metadata": {},
   "source": [
    "### Structured"
   ]
  },
  {
   "cell_type": "code",
   "execution_count": null,
   "metadata": {},
   "outputs": [],
   "source": [
    "if IN_COLAB:\n",
    "    %reload_ext tensorboard\n",
    "    %tensorboard --logdir saved_models/MNIST/lightning_logs"
   ]
  },
  {
   "cell_type": "code",
   "execution_count": null,
   "metadata": {},
   "outputs": [],
   "source": [
    "# MNIST dataset images are 28x28 pixels in size and are black and white, so only have one channel\n",
    "stru_90_model = train_model(\"structured\",\n",
    "                    ratio=0.90,\n",
    "                    img_shape=(1,28,28),\n",
    "                    batch_size=train_loader.batch_size,\n",
    "                    lr=1e-4,\n",
    "                    beta1=0.0)"
   ]
  },
  {
   "cell_type": "markdown",
   "metadata": {},
   "source": []
  }
 ],
 "metadata": {
  "kernelspec": {
   "display_name": "base",
   "language": "python",
   "name": "python3"
  },
  "language_info": {
   "codemirror_mode": {
    "name": "ipython",
    "version": 3
   },
   "file_extension": ".py",
   "mimetype": "text/x-python",
   "name": "python",
   "nbconvert_exporter": "python",
   "pygments_lexer": "ipython3",
   "version": "3.11.5"
  }
 },
 "nbformat": 4,
 "nbformat_minor": 2
}
